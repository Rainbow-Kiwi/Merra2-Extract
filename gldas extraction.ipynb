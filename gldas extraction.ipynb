{
 "cells": [
  {
   "cell_type": "markdown",
   "metadata": {},
   "source": [
    "# Extracting GLDAS-2.0"
   ]
  },
  {
   "cell_type": "markdown",
   "metadata": {},
   "source": [
    "---\n",
    "\n",
    "should have: \n",
    "<br>earthengine-api\n",
    "<br>geemap"
   ]
  },
  {
   "cell_type": "code",
   "execution_count": null,
   "metadata": {},
   "outputs": [],
   "source": [
    "import numpy as np\n",
    "import matplotlib\n",
    "import matplotlib.pyplot as plt\n",
    "import pandas as pd\n",
    "import datetime\n",
    "import time\n",
    "try:\n",
    "    import google.colab\n",
    "    import geemap.eefolium as emap\n",
    "except:\n",
    "    import geemap as emap"
   ]
  },
  {
   "cell_type": "code",
   "execution_count": null,
   "metadata": {},
   "outputs": [],
   "source": [
    "import ee\n",
    "\n",
    "ee.Initialize()"
   ]
  },
  {
   "cell_type": "markdown",
   "metadata": {},
   "source": [
    "### Initialization\n",
    "Initialization of the area, the point, the time period.\n",
    "<br> Please change the filterdate parameters as necessary."
   ]
  },
  {
   "cell_type": "code",
   "execution_count": null,
   "metadata": {},
   "outputs": [],
   "source": [
    "aoi = ee.Geometry.Point(-62.119581801721324,-10.215769049745338)\n",
    "gldas = (ee.ImageCollection('NASA/GLDAS/V021/NOAH/G025/T3H')\n",
    "         .filterDate(datetime.datetime(2020, 1, 15), datetime.datetime(2020, 1, 16))\n",
    "         .filterBounds(aoi))\n",
    "\n",
    "\n",
    "# gldas = gldas.filterDate(datetime.datetime(2000, 1, 1), datetime.datetime(2020, 1, 16))\n"
   ]
  },
  {
   "cell_type": "code",
   "execution_count": null,
   "metadata": {},
   "outputs": [],
   "source": [
    "Map = emap.Map(center=[-15,-60], zoom=4)\n"
   ]
  },
  {
   "cell_type": "markdown",
   "metadata": {},
   "source": [
    "#### Selecting bands / defining their names in-program\n",
    "\n",
    "I put all the bands as they are, according to [Earth Explorer](https://explorer.earthengine.google.com/#detail/NASA%2FGLDAS%2FV20%2FNOAH%2FG025%2FT3H).\n",
    "\n",
    "However, it seems that not all data is used in [Mr. Effrain's code.](https://code.earthengine.google.com/c54330f0b4cbcc19cc24a98f9ea0b531) The excess bands have been commented out.\n"
   ]
  },
  {
   "cell_type": "code",
   "execution_count": null,
   "metadata": {},
   "outputs": [],
   "source": [
    "Albedo_inst = gldas.select('Albedo_inst')\n",
    "Lwnet_tavg = gldas.select('Lwnet_tavg')\n",
    "Psurf_f_inst = gldas.select('Psurf_f_inst')\n",
    "Qair_f_inst = gldas.select('Qair_f_inst')\n",
    "Qh_tavg = gldas.select('Qh_tavg')\n",
    "Qle_tavg  = gldas.select('Qle_tavg')\n",
    "Rainf_f_tavg = gldas.select('Rainf_f_tavg')\n",
    "RootMoist_inst = gldas.select('RootMoist_inst')\n",
    "SWdown_f_tavg = gldas.select('SWdown_f_tavg')\n",
    "Swnet_tavg = gldas.select('Swnet_tavg')\n",
    "Tair_f_inst = gldas.select('Tair_f_inst')\n",
    "Wind_f_inst = gldas.select('Wind_f_inst')"
   ]
  },
  {
   "cell_type": "code",
   "execution_count": null,
   "metadata": {},
   "outputs": [],
   "source": [
    "# AvgSurfT_inst = gldas.select('AvgSurfT_inst')\n",
    "# CanopInt_inst = gldas.select('CanopInt_inst')\n",
    "# ECanop_tavg = gldas.select('ECanop_tavg')\n",
    "# ESoil_tavg = gldas.select('ESoil_tavg')\n",
    "# Evap_tavg = gldas.select('Evap_tavg')\n",
    "# LWdown_f_tavg = gldas.select('LWdown_f_tavg')\n",
    "# PotEvap_tavg = gldas.select('PotEvap_tavg')\n",
    "# Qg_tavg = gldas.select('Qg_tavg')\n",
    "# Qs_acc = gldas.select('Qs_acc')\n",
    "# Qsb_acc = gldas.select('Qsb_acc')\n",
    "# Qsm_acc = gldas.select('Qsm_acc')\n",
    "# Rainf_tavg = gldas.select('Rainf_tavg')\n",
    "# SWE_inst = gldas.select('SWE_inst')\n",
    "# SnowDepth_inst = gldas.select('SnowDepth_inst')\n",
    "# Snowf_tavg = gldas.select('Snowf_tavg')\n",
    "# Snowf_tavg = gldas.select('Snowf_tavg')\n",
    "# SoilMoi0_10cm_inst = gldas.select('SoilMoi0_10cm_inst')\n",
    "# SoilMoi10_40cm_inst = gldas.select('SoilMoi10_40cm_inst')\n",
    "# SoilMoi40_100cm_inst = gldas.select('SoilMoi40_100cm_inst')\n",
    "# SoilMoi100_200cm_inst = gldas.select('SoilMoi100_200cm_inst')\n",
    "# SoilTMP0_10cm_inst = gldas.select('SoilTMP0_10cm_inst')\n",
    "# SoilTMP10_40cm_inst = gldas.select('SoilTMP10_40cm_inst')\n",
    "# SoilTMP40_100cm_inst = gldas.select('SoilTMP40_100cm_inst')\n",
    "# SoilTMP100_200cm_inst = gldas.select('SoilTMP100_200cm_inst')\n",
    "# Tveg_tavg = gldas.select('Tveg_tavg')\n"
   ]
  },
  {
   "cell_type": "markdown",
   "metadata": {},
   "source": [
    "#### Main Algorithm (WIP)\n",
    "addTime function adds a column in csv with the date in years since the epoch. (I could not figure out how to get feature and image data integrated yet.) \n",
    "<br>\n",
    "I keep getting the error \"bad date/time\" when attempting to use ee.Date to set the image properties.\n",
    "<br>\n",
    "The rest of the function reduces and finds the mean of the data.\n",
    "<br>\n",
    "It is then exported."
   ]
  },
  {
   "cell_type": "code",
   "execution_count": null,
   "metadata": {
    "scrolled": true
   },
   "outputs": [],
   "source": [
    "def addtime(image):\n",
    "    return image.addBands(image.metadata('system:time_start').divide(1000*60*60*24*365))\n",
    "\n",
    "RootMoist_inst = RootMoist_inst.map(addtime)"
   ]
  },
  {
   "cell_type": "code",
   "execution_count": null,
   "metadata": {},
   "outputs": [],
   "source": [
    "def func(collection):   \n",
    "    def reduce(image):\n",
    "        reduced = image.reduceRegions(collection=aoi, reducer=ee.Reducer.mean(), scale=25000)\n",
    "        image = image.set('value', reduced)\n",
    "        return reduced\n",
    "    red_feature = collection.map(reduce)\n",
    "    return red_feature.flatten()"
   ]
  },
  {
   "cell_type": "code",
   "execution_count": null,
   "metadata": {
    "scrolled": true
   },
   "outputs": [],
   "source": [
    "results = func(RootMoist_inst)\n",
    "results.getInfo()"
   ]
  },
  {
   "cell_type": "markdown",
   "metadata": {},
   "source": [
    "#### Exporting CSV Table"
   ]
  },
  {
   "cell_type": "code",
   "execution_count": null,
   "metadata": {},
   "outputs": [],
   "source": [
    "foldername = \"FNS\"\n",
    "ExprtDescrptn = input(\"Filename? \")\n",
    "\n",
    "export_task = ee.batch.Export.table.toDrive(collection=results, folder=foldername, description=ExprtDescrptn, fileFormat='CSV')\n",
    "export_task_config = {\n",
    "    'scale': 27750, 'driveFolder': 'FNS'\n",
    "}\n",
    "export_task.start()\n",
    "\n",
    "# ee.batch.data.startProcessing(export_task, export_task_config)"
   ]
  },
  {
   "cell_type": "code",
   "execution_count": null,
   "metadata": {},
   "outputs": [],
   "source": [
    "# Map.addLayerControl()\n",
    "# Map\n",
    "\n",
    "#^gives an interactive map for no reason"
   ]
  },
  {
   "cell_type": "markdown",
   "metadata": {},
   "source": [
    "Below: Practice / Tests\n",
    "<br> code burial site"
   ]
  },
  {
   "cell_type": "code",
   "execution_count": null,
   "metadata": {},
   "outputs": [],
   "source": [
    "# foldername = \"FNS\"\n",
    "# ExprtDescrptn = \"RootMoist_inst10\"\n",
    "\n",
    "# export_task = ee.batch.Export.table.toDrive(collection=results, folder=foldername, description=ExprtDescrptn, fileFormat='CSV')\n",
    "# export_task_config = {\n",
    "#     'scale': 27750, 'driveFolder': 'FNS', \"maxPixels\": 1.0E13\n",
    "# }\n",
    "# export_task.start()\n",
    "\n",
    "# # ee.batch.data.startProcessing(export_task, export_task_config)"
   ]
  },
  {
   "cell_type": "code",
   "execution_count": null,
   "metadata": {},
   "outputs": [],
   "source": [
    "# def addDate(image):\n",
    "#     date = ee.Date(image.get('system:index'))\n",
    "#     date = date.format(\"YYYY-mm-dd\")\n",
    "#     return image.set({'Date': date})\n",
    "\n",
    "# RootMoist_inst = RootMoist_inst.map(addDate)"
   ]
  },
  {
   "cell_type": "code",
   "execution_count": null,
   "metadata": {},
   "outputs": [],
   "source": [
    "# def date(image):\n",
    "#     date = ee.Date(image.get('system:time_start'))\n",
    "#     return image.set({'Date': date})\n",
    "\n",
    "# RootMoist_inst = RootMoist_inst.map(date)"
   ]
  },
  {
   "cell_type": "code",
   "execution_count": null,
   "metadata": {},
   "outputs": [],
   "source": [
    "    \n",
    "#     def featureTime(feature):\n",
    "#         date = ee.Date(feature.getNumber(\"system:time_start\"))\n",
    "# #         date = ee.Date(feature.getNumber(\"system:start_time\"))\n",
    "#         print(date)\n",
    "#         return feature.set({'Date': date})\n",
    "        \n",
    "        \n",
    "\n",
    "# # A20200115_1500        \n",
    "\n",
    "# #         date = datetime.datetime.utcfromtimestamp(date.getInfo()[\"value\"]/1000.0)\n",
    "\n",
    "#         return feature.set({'Date': date1})\n",
    "\n",
    "    "
   ]
  },
  {
   "cell_type": "code",
   "execution_count": null,
   "metadata": {},
   "outputs": [],
   "source": [
    "# reduced = image.reduceRegions(collection=aoi, reducer=ee.Reducer.mean(), scale=25000)\n",
    "#         image = image.set('value', reduced)\n",
    "#         return image"
   ]
  },
  {
   "cell_type": "code",
   "execution_count": null,
   "metadata": {},
   "outputs": [],
   "source": [
    "# def addinfo(feature):\n",
    "#         date1 = ee.Date(feature.get(\"system:time_start\"))\n",
    "#         date2 = ee.Date.format(date=date1, format='YYYY-mm-dd')\n",
    "\n",
    "# #         date = datetime.datetime.utcfromtimestamp(date.getInfo()[\"value\"]/1000.0)\n",
    "\n",
    "#         return feature.set({'Date': date2})"
   ]
  },
  {
   "cell_type": "code",
   "execution_count": null,
   "metadata": {},
   "outputs": [],
   "source": [
    "# mergedate = RootMoist_inst.merge(daterootmoist_inst)"
   ]
  },
  {
   "cell_type": "code",
   "execution_count": null,
   "metadata": {},
   "outputs": [],
   "source": [
    "# exports.temporalCollection = function(collection, start, count, interval, units) {\n",
    "#   // Create a sequence of numbers, one for each time interval.\n",
    "#   var sequence = ee.List.sequence(0, ee.Number(count).subtract(1));\n",
    "\n",
    "#   var originalStartDate = ee.Date(start);\n",
    "\n",
    "#   return ee.ImageCollection(sequence.map(function(i) {\n",
    "#     // Get the start date of the current sequence.\n",
    "#     var startDate = originalStartDate.advance(ee.Number(interval).multiply(i), units);\n",
    "\n",
    "#     // Get the end date of the current sequence.\n",
    "#     var endDate = originalStartDate.advance(\n",
    "#       ee.Number(interval).multiply(ee.Number(i).add(1)), units);\n",
    "\n",
    "#     return collection\n",
    "#         .filterDate(startDate, endDate)\n",
    "#         .mosaic()\n",
    "#         .set('system:time_start', startDate.millis());\n",
    "#   }));\n",
    "# }"
   ]
  },
  {
   "cell_type": "code",
   "execution_count": null,
   "metadata": {},
   "outputs": [],
   "source": [
    "#         date_string = str(date)\n",
    "#         dateformat = datetime.datetime.strptime(date_string, \"%Y %m %d %H %M\")\n"
   ]
  },
  {
   "cell_type": "code",
   "execution_count": null,
   "metadata": {},
   "outputs": [],
   "source": [
    "# #need a function (algorithm) that reduces regions\n",
    "\n",
    "# def reduce(image):\n",
    "#     reduced = image.reduceRegion(collection=aoi, reducer=ee.Reducer.mean(), scale=25000)\n",
    "#     image = image.set('value', reduced)\n",
    "#     return image\n",
    "\n",
    "# def ident_info(feature):\n",
    "#     return feature.set('date', image.date().format())\n"
   ]
  },
  {
   "cell_type": "code",
   "execution_count": null,
   "metadata": {},
   "outputs": [],
   "source": [
    "# ImageCollection.map(algorithm, dropNulls)\tCollection\n",
    "# Image.reduceRegions(collection, reducer, scale, crs, crsTransform, tileScale)\tFeatureCollection"
   ]
  }
 ],
 "metadata": {
  "kernelspec": {
   "display_name": "Python 3",
   "language": "python",
   "name": "python3"
  },
  "language_info": {
   "codemirror_mode": {
    "name": "ipython",
    "version": 3
   },
   "file_extension": ".py",
   "mimetype": "text/x-python",
   "name": "python",
   "nbconvert_exporter": "python",
   "pygments_lexer": "ipython3",
   "version": "3.7.6"
  }
 },
 "nbformat": 4,
 "nbformat_minor": 4
}
