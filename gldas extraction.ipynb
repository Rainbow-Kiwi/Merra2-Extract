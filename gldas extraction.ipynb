{
 "cells": [
  {
   "cell_type": "markdown",
   "metadata": {},
   "source": [
    "# Extracting GLDAS-2.0"
   ]
  },
  {
   "cell_type": "markdown",
   "metadata": {},
   "source": [
    "---\n",
    "\n",
    "should have: \n",
    "<br>earthengine-api\n",
    "<br>geemap"
   ]
  },
  {
   "cell_type": "code",
   "execution_count": 1,
   "metadata": {},
   "outputs": [],
   "source": [
    "import numpy as np\n",
    "import matplotlib\n",
    "import matplotlib.pyplot as plt\n",
    "import pandas as pd\n",
    "import datetime\n",
    "import time\n",
    "try:\n",
    "    import google.colab\n",
    "    import geemap.eefolium as emap\n",
    "except:\n",
    "    import geemap as emap"
   ]
  },
  {
   "cell_type": "code",
   "execution_count": 2,
   "metadata": {},
   "outputs": [],
   "source": [
    "import ee\n",
    "\n",
    "ee.Initialize()"
   ]
  },
  {
   "cell_type": "markdown",
   "metadata": {},
   "source": [
    "### Initialization\n",
    "Initialization of the area, the point, the time period.\n",
    "<br> Please change the filterdate parameters as necessary."
   ]
  },
  {
   "cell_type": "code",
   "execution_count": 3,
   "metadata": {},
   "outputs": [],
   "source": [
    "aoi = ee.Geometry.Point(-62.119581801721324,-10.215769049745338)\n",
    "gldas = (ee.ImageCollection('NASA/GLDAS/V021/NOAH/G025/T3H')\n",
    "         .filterDate(datetime.datetime(2020, 1, 15), datetime.datetime(2020, 1, 16))\n",
    "         .filterBounds(aoi))\n",
    "\n",
    "\n",
    "# gldas = gldas.filterDate(datetime.datetime(2000, 1, 1), datetime.datetime(2020, 1, 16))\n"
   ]
  },
  {
   "cell_type": "markdown",
   "metadata": {},
   "source": [
    "#### Selecting bands / defining their names in-program\n",
    "\n",
    "I put all the bands as they are, according to [Earth Explorer](https://explorer.earthengine.google.com/#detail/NASA%2FGLDAS%2FV20%2FNOAH%2FG025%2FT3H).\n",
    "\n",
    "However, it seems that not all data is used in [Mr. Effrain's code.](https://code.earthengine.google.com/c54330f0b4cbcc19cc24a98f9ea0b531) The excess bands have been commented out.\n"
   ]
  },
  {
   "cell_type": "code",
   "execution_count": 4,
   "metadata": {},
   "outputs": [],
   "source": [
    "Albedo_inst = gldas.select('Albedo_inst') \n",
    "Lwnet_tavg = gldas.select('Lwnet_tavg') \n",
    "Psurf_f_inst = gldas.select('Psurf_f_inst')\n",
    "Qair_f_inst = gldas.select('Qair_f_inst')\n",
    "Qh_tavg = gldas.select('Qh_tavg')\n",
    "Qle_tavg  = gldas.select('Qle_tavg')\n",
    "Rainf_f_tavg = gldas.select('Rainf_f_tavg')\n",
    "RootMoist_inst = gldas.select('RootMoist_inst')\n",
    "SWdown_f_tavg = gldas.select('SWdown_f_tavg')\n",
    "Swnet_tavg = gldas.select('Swnet_tavg')\n",
    "Tair_f_inst = gldas.select('Tair_f_inst')\n",
    "Wind_f_inst = gldas.select('Wind_f_inst')"
   ]
  },
  {
   "cell_type": "code",
   "execution_count": 5,
   "metadata": {},
   "outputs": [],
   "source": [
    "# # shortwave radiation at the ground surface\n",
    "# SWdown_f_tavg - downward short-wave radiation flux\n",
    "# SWnet_tavg - net short wave radiation flux\n",
    "# # wind\n",
    "# Wind_f_inst - wind speed\n",
    "# # precipitation\n",
    "# Rainf_f_tavg - Total precipitation rate\n",
    "# # temperature\n",
    "# Tair_f_inst - Air temperature\n",
    "# # Vapor pressure\n",
    "# Psurf_f_inst - Pressure\n",
    "# # radiation\n",
    "# Qh_tavg - sensible heat net flux\n",
    "# Qle_tavg - latent heat flux\n",
    "# Albedo_inst - albedo (reflected radiation)\n",
    "# Lwnet_tavg - longwave radiation flux\n",
    "\n",
    "\n",
    "# #other\n",
    "# Qair_f_inst - specific humidity\n",
    "# RootMoist_inst = root moisture"
   ]
  },
  {
   "cell_type": "code",
   "execution_count": 6,
   "metadata": {},
   "outputs": [],
   "source": [
    "# AvgSurfT_inst = gldas.select('AvgSurfT_inst')\n",
    "# CanopInt_inst = gldas.select('CanopInt_inst')\n",
    "# ECanop_tavg = gldas.select('ECanop_tavg')\n",
    "# ESoil_tavg = gldas.select('ESoil_tavg')\n",
    "# Evap_tavg = gldas.select('Evap_tavg')\n",
    "# LWdown_f_tavg = gldas.select('LWdown_f_tavg')\n",
    "# PotEvap_tavg = gldas.select('PotEvap_tavg')\n",
    "# Qg_tavg = gldas.select('Qg_tavg')\n",
    "# Qs_acc = gldas.select('Qs_acc')\n",
    "# Qsb_acc = gldas.select('Qsb_acc')\n",
    "# Qsm_acc = gldas.select('Qsm_acc')\n",
    "# Rainf_tavg = gldas.select('Rainf_tavg')\n",
    "# SWE_inst = gldas.select('SWE_inst')\n",
    "# SnowDepth_inst = gldas.select('SnowDepth_inst')\n",
    "# Snowf_tavg = gldas.select('Snowf_tavg')\n",
    "# Snowf_tavg = gldas.select('Snowf_tavg')\n",
    "# SoilMoi0_10cm_inst = gldas.select('SoilMoi0_10cm_inst')\n",
    "# SoilMoi10_40cm_inst = gldas.select('SoilMoi10_40cm_inst')\n",
    "# SoilMoi40_100cm_inst = gldas.select('SoilMoi40_100cm_inst')\n",
    "# SoilMoi100_200cm_inst = gldas.select('SoilMoi100_200cm_inst')\n",
    "# SoilTMP0_10cm_inst = gldas.select('SoilTMP0_10cm_inst')\n",
    "# SoilTMP10_40cm_inst = gldas.select('SoilTMP10_40cm_inst')\n",
    "# SoilTMP40_100cm_inst = gldas.select('SoilTMP40_100cm_inst')\n",
    "# SoilTMP100_200cm_inst = gldas.select('SoilTMP100_200cm_inst')\n",
    "# Tveg_tavg = gldas.select('Tveg_tavg')\n"
   ]
  },
  {
   "cell_type": "markdown",
   "metadata": {},
   "source": [
    "#### Main Algorithm (WIP)\n",
    "addTime function adds a column in csv with the date in years since the epoch. (I could not figure out how to get feature and image data integrated yet.) \n",
    "<br>\n",
    "I keep getting the error \"bad date/time\" when attempting to use ee.Date to set the image properties.\n",
    "<br>\n",
    "The rest of the function reduces and finds the mean of the data.\n",
    "<br>\n",
    "It is then exported."
   ]
  },
  {
   "cell_type": "code",
   "execution_count": 7,
   "metadata": {
    "scrolled": true
   },
   "outputs": [],
   "source": [
    "# def addtime(image):\n",
    "#     return image.addBands(image.metadata('system:time_start').divide(1000*60*60*24*365))\n",
    "\n",
    "# RootMoist_inst = RootMoist_inst.map(addtime)"
   ]
  },
  {
   "cell_type": "code",
   "execution_count": 8,
   "metadata": {},
   "outputs": [],
   "source": [
    "# def addDate(image):\n",
    "#     date = ee.Date(image.get('system:index'))\n",
    "# #     date = date.format(\"YYYY-mm-dd\")\n",
    "#     return image.set({'Date': date})\n",
    "\n",
    "# RootMoist_inst = RootMoist_inst.map(addDate)"
   ]
  },
  {
   "cell_type": "code",
   "execution_count": 9,
   "metadata": {},
   "outputs": [],
   "source": [
    "# def date(image, feature):\n",
    "#     date = ee.Date(image.get('value'))\n",
    "#     return feature.set({\"Date\": date})"
   ]
  },
  {
   "cell_type": "code",
   "execution_count": 10,
   "metadata": {},
   "outputs": [],
   "source": [
    "# def date(image):\n",
    "#     date = ee.Image.date(image)\n",
    "#     return image.set('date', date)\n",
    "# #     return image.set({'Date': date})\n",
    "\n",
    "# RootMoist_inst = RootMoist_inst.map(date)\n",
    "# RootMoist_inst.getInfo()"
   ]
  },
  {
   "cell_type": "code",
   "execution_count": 11,
   "metadata": {},
   "outputs": [
    {
     "data": {
      "text/plain": [
       "{'type': 'ImageCollection',\n",
       " 'bands': [],\n",
       " 'id': 'NASA/GLDAS/V021/NOAH/G025/T3H',\n",
       " 'version': 1590965647019730.0,\n",
       " 'properties': {'system:visualization_0_min': '250.0',\n",
       "  'type_name': 'ImageCollection',\n",
       "  'thumb': 'https://mw1.google.com/ges/dd/images/NASA_GLDAS_thumb.png',\n",
       "  'description': '<p>Global Land Data Assimilation System (GLDAS) ingests satellite and\\nground-based observational data products. Using advanced land surface\\nmodeling and data assimilation techniques, it generates optimal\\nfields of land surface states and fluxes.</p><p>GLDAS-2.1 is one of two components of the GLDAS Version 2 (GLDAS-2) dataset,\\nthe second being GLDAS-2.0. GLDAS-2.1 is analogous to GLDAS-1 product stream,\\nwith upgraded models forced by a combination of <a href=\"https://ldas.gsfc.nasa.gov/gldas/GLDASforcing.php\">GDAS, disaggregated GPCP,\\nand AGRMET radiation data sets</a>.</p><p>The GLDAS-2.1 simulation started on January 1, 2000 using the\\nconditions from the GLDAS-2.0 simulation. This simulation was\\nforced with National Oceanic and Atmospheric Administration\\n(NOAA)/Global Data Assimilation System (GDAS) atmospheric analysis\\nfields (Derber et al., 1991), the disaggregated Global Precipitation\\nClimatology Project (GPCP) precipitation fields (Adler et al., 2003),\\nand the Air Force Weather Agency&#39;s AGRicultural METeorological\\nmodeling system (AGRMET) radiation fields which became available\\nfor March 1, 2001 onwards.</p><p><b>Resolution</b><br>0.25 arc degrees\\n</p><p><b>Cadence</b><br>\\n  3 hours\\n</p><p><b>Bands</b><table class=\"eecat\"><tr><th scope=\"col\">Name</th><th scope=\"col\">Units</th><th scope=\"col\">Min</th><th scope=\"col\">Max</th><th scope=\"col\">Description</th></tr><tr><td>Albedo_inst</td><td>%</td><td>\\n          4.99*\\n</td><td>\\n          82.25*\\n</td><td><p>Albedo</p></td></tr><tr><td>AvgSurfT_inst</td><td>K</td><td>\\n          187.48*\\n</td><td>\\n          1323.35*\\n</td><td><p>Average surface skin temperature</p></td></tr><tr><td>CanopInt_inst</td><td>kg/m^2</td><td>\\n          0*\\n</td><td>\\n          0.5*\\n</td><td><p>Plant canopy surface water</p></td></tr><tr><td>ECanop_tavg</td><td>W/m^2</td><td>\\n          0*\\n</td><td>\\n          1273.66*\\n</td><td><p>Canopy water evaporation</p></td></tr><tr><td>ESoil_tavg</td><td>W/m^2</td><td>\\n          0*\\n</td><td>\\n          2275.63*\\n</td><td><p>Direct evaporation from bare soil</p></td></tr><tr><td>Evap_tavg</td><td>kg/m^2/s</td><td>\\n          0*\\n</td><td>\\n          0.002*\\n</td><td><p>Evapotranspiration</p></td></tr><tr><td>LWdown_f_tavg</td><td>W/m^2</td><td>\\n          26.85*\\n</td><td>\\n          600.9*\\n</td><td><p>Downward long-wave radiation flux</p></td></tr><tr><td>Lwnet_tavg</td><td>W/m^2</td><td>\\n          -13792.7*\\n</td><td>\\n          196.97*\\n</td><td><p>Net long-wave radiation flux</p></td></tr><tr><td>PotEvap_tavg</td><td>W/m^2</td><td>\\n          -227.75*\\n</td><td>\\n          18977.9*\\n</td><td><p>Potential evaporation rate</p></td></tr><tr><td>Psurf_f_inst</td><td>Pa</td><td>\\n          44063.1*\\n</td><td>\\n          108344*\\n</td><td><p>Pressure</p></td></tr><tr><td>Qair_f_inst</td><td>kg/kg</td><td>\\n          -0.02*\\n</td><td>\\n          0.07*\\n</td><td><p>Specific humidity</p></td></tr><tr><td>Qg_tavg</td><td>W/m^2</td><td>\\n          -552.64*\\n</td><td>\\n          1538.41*\\n</td><td><p>Heat flux</p></td></tr><tr><td>Qh_tavg</td><td>W/m^2</td><td>\\n          -1005.15*\\n</td><td>\\n          18190.6*\\n</td><td><p>Sensible heat net flux</p></td></tr><tr><td>Qle_tavg</td><td>W/m^2</td><td>\\n          -227.75*\\n</td><td>\\n          5072.25*\\n</td><td><p>Latent heat net flux</p></td></tr><tr><td>Qs_acc</td><td>kg/m^2</td><td>\\n          0*\\n</td><td>\\n          170.93*\\n</td><td><p>Storm surface runoff</p></td></tr><tr><td>Qsb_acc</td><td>kg/m^2</td><td>\\n          0*\\n</td><td>\\n          50.6*\\n</td><td><p>Baseflow-groundwater runoff</p></td></tr><tr><td>Qsm_acc</td><td>kg/m^2</td><td>\\n          0*\\n</td><td>\\n          42.87*\\n</td><td><p>Snow melt</p></td></tr><tr><td>Rainf_f_tavg</td><td>kg/m^2/s</td><td>\\n          0*\\n</td><td>\\n          0.01*\\n</td><td><p>Total precipitation rate</p></td></tr><tr><td>Rainf_tavg</td><td>kg/m^2/s</td><td>\\n          0*\\n</td><td>\\n          0.01*\\n</td><td><p>Rain precipitation rate</p></td></tr><tr><td>RootMoist_inst</td><td>kg/m^2</td><td>\\n          2*\\n</td><td>\\n          949.6*\\n</td><td><p>Root zone soil moisture</p></td></tr><tr><td>SWE_inst</td><td>kg/m^2</td><td>\\n          0*\\n</td><td>\\n          120787*\\n</td><td><p>Snow depth water equivalent</p></td></tr><tr><td>SWdown_f_tavg</td><td>W/m^2</td><td>\\n          -56.93*\\n</td><td>\\n          30462.8*\\n</td><td><p>Downward short-wave radiation flux</p></td></tr><tr><td>SnowDepth_inst</td><td>m</td><td>\\n          0*\\n</td><td>\\n          301.96*\\n</td><td><p>Snow depth</p></td></tr><tr><td>Snowf_tavg</td><td>kg/m^2/s</td><td>\\n          0*\\n</td><td>\\n          0.009*\\n</td><td><p>Snow precipitation rate</p></td></tr><tr><td>SoilMoi0_10cm_inst</td><td>kg/m^2</td><td>\\n          1.99*\\n</td><td>\\n          47.59*\\n</td><td><p>Soil moisture</p></td></tr><tr><td>SoilMoi10_40cm_inst</td><td>kg/m^2</td><td>\\n          5.99*\\n</td><td>\\n          142.8*\\n</td><td><p>Soil moisture</p></td></tr><tr><td>SoilMoi40_100cm_inst</td><td>kg/m^2</td><td>\\n          11.99*\\n</td><td>\\n          285.6*\\n</td><td><p>Soil moisture</p></td></tr><tr><td>SoilMoi100_200cm_inst</td><td>kg/m^2</td><td>\\n          20*\\n</td><td>\\n          476*\\n</td><td><p>Soil moisture</p></td></tr><tr><td>SoilTMP0_10cm_inst</td><td>K</td><td>\\n          221.98*\\n</td><td>\\n          377.5*\\n</td><td><p>Soil temperature</p></td></tr><tr><td>SoilTMP10_40cm_inst</td><td>K</td><td>\\n          227.43*\\n</td><td>\\n          319.44*\\n</td><td><p>Soil temperature</p></td></tr><tr><td>SoilTMP40_100cm_inst</td><td>K</td><td>\\n          232.97*\\n</td><td>\\n          316.2*\\n</td><td><p>Soil temperature</p></td></tr><tr><td>SoilTMP100_200cm_inst</td><td>K</td><td>\\n          238.52*\\n</td><td>\\n          314.11*\\n</td><td><p>Soil temperature</p></td></tr><tr><td>Swnet_tavg</td><td>W/m^2</td><td>\\n          -48.96*\\n</td><td>\\n          23741.3*\\n</td><td><p>Net short wave radiation flux</p></td></tr><tr><td>Tair_f_inst</td><td>K</td><td>\\n          206.8*\\n</td><td>\\n          327.66*\\n</td><td><p>Air temperature</p></td></tr><tr><td>Tveg_tavg</td><td>W/m^2</td><td>\\n          0*\\n</td><td>\\n          3455.14*\\n</td><td><p>Transpiration</p></td></tr><tr><td>Wind_f_inst</td><td>m/s</td><td>\\n          0*\\n</td><td>\\n          57.7*\\n</td><td><p>Wind speed</p></td></tr></table>\\n  * estimated min or max value\\n<p><b>Image Properties</b><table class=\"eecat\"><tr><th scope=\"col\">Name</th><th scope=\"col\">Type</th><th scope=\"col\">Description</th></tr><tr><td>end_hour</td><td>DOUBLE</td><td><p>End hour</p></td></tr><tr><td>start_hour</td><td>DOUBLE</td><td><p>Start hour</p></td></tr></table><p><sup>Provider&#39;s Note: the names with extension _tavg are variables\\naveraged over the past 3-hours, the names with extension &#39;_acc&#39; are\\nvariables accumulated over the past 3-hours, the names with extension\\n&#39;_inst&#39; are instantaneous variables, and the names with &#39;_f&#39; are\\nforcing variables.</sup><p><b>Terms of Use</b><br><p>Distribution of data from the Goddard Earth Sciences\\nData and Information Services Center (GES DISC) is funded by NASA&#39;s\\nScience Mission Directorate (SMD). Consistent with NASA <a href=\"https://science.nasa.gov/earth-science/earth-science-data/data-information-policy/\">Earth\\nScience Data and Information Policy</a>,\\ndata from the GES DISC archive are available free to the user community.\\nFor more information visit the GES DISC <a href=\"https://disc.sci.gsfc.nasa.gov/citing\">Data Policy</a>\\npage.</p><p><b>Suggested citation(s)</b><ul><li><p>Rodell, M., P.R. Houser, U. Jambor, J. Gottschalck, K. Mitchell, C.-J. Meng, K. Arsenault, B. Cosgrove, J. Radakovich, M. Bosilovich, J.K. Entin, J.P. Walker, D. Lohmann, and D. Toll, The Global Land Data Assimilation System, Bull. Amer. Meteor. Soc., 85(3), 381-394, 2004.</p></li><li><p><a href=\"https://ldas.gsfc.nasa.gov/gldas/GLDASpublications.php\">Additional references</a></p></li></ul><style>\\n  table.eecat {\\n  border: 1px solid black;\\n  border-collapse: collapse;\\n  font-size: 13px;\\n  }\\n  table.eecat td, tr, th {\\n  text-align: left; vertical-align: top;\\n  border: 1px solid gray; padding: 3px;\\n  }\\n  td.nobreak { white-space: nowrap; }\\n</style>',\n",
       "  'source_tags': ['nasa', 'ldas', 'gldas', '3-hourly'],\n",
       "  'visualization_0_max': '300.0',\n",
       "  'title': 'GLDAS-2.1: Global Land Data Assimilation System',\n",
       "  'product_tags': ['forcing',\n",
       "   'wind',\n",
       "   'temperature',\n",
       "   'humidity',\n",
       "   'geophysical',\n",
       "   'soil',\n",
       "   'moisture',\n",
       "   'surface',\n",
       "   'pressure',\n",
       "   'radiation',\n",
       "   'precipitation',\n",
       "   'evaporation',\n",
       "   'climate'],\n",
       "  'provider': 'NASA GES DISC at NASA Goddard Space Flight Center',\n",
       "  'visualization_0_min': '250.0',\n",
       "  'visualization_0_name': 'Average Surface Skin Temperature [K]',\n",
       "  'date_range': [946684800000, 1588204800000],\n",
       "  'period': 0,\n",
       "  'system:visualization_0_bands': 'AvgSurfT_inst',\n",
       "  'system:is_global': 1,\n",
       "  'provider_url': 'https://doi.org/10.5067/E7TYRXPJKWOQ',\n",
       "  'sample': 'https://mw1.google.com/ges/dd/images/NASA_GLDAS_sample.png',\n",
       "  'tags': ['nasa',\n",
       "   'ldas',\n",
       "   'gldas',\n",
       "   '3-hourly',\n",
       "   'forcing',\n",
       "   'wind',\n",
       "   'temperature',\n",
       "   'humidity',\n",
       "   'geophysical',\n",
       "   'soil',\n",
       "   'moisture',\n",
       "   'surface',\n",
       "   'pressure',\n",
       "   'radiation',\n",
       "   'precipitation',\n",
       "   'evaporation',\n",
       "   'climate'],\n",
       "  'system:visualization_0_max': '300.0',\n",
       "  'visualization_0_palette': '1303ff,42fff6,f3ff40,ff5d0f',\n",
       "  'system:visualization_0_palette': '1303ff,42fff6,f3ff40,ff5d0f',\n",
       "  'system:visualization_0_name': 'Average Surface Skin Temperature [K]',\n",
       "  'visualization_0_bands': 'AvgSurfT_inst'},\n",
       " 'features': [{'type': 'Image',\n",
       "   'bands': [{'id': 'RootMoist_inst',\n",
       "     'data_type': {'type': 'PixelType', 'precision': 'float'},\n",
       "     'dimensions': [1440, 600],\n",
       "     'crs': 'EPSG:4326',\n",
       "     'crs_transform': [0.25, 0, -180, 0, -0.25, 90]}],\n",
       "   'version': 1582859667423309,\n",
       "   'id': 'NASA/GLDAS/V021/NOAH/G025/T3H/A20200115_0000',\n",
       "   'properties': {'system:time_start': 1579046400000,\n",
       "    'system:footprint': {'type': 'LinearRing',\n",
       "     'coordinates': [[-180, -90],\n",
       "      [180, -90],\n",
       "      [180, 90],\n",
       "      [-180, 90],\n",
       "      [-180, -90]]},\n",
       "    'start_hour': 0,\n",
       "    'system:time_end': 1579057200000,\n",
       "    'end_hour': 3,\n",
       "    'system:asset_size': 24969219,\n",
       "    'system:index': 'A20200115_0000'}},\n",
       "  {'type': 'Image',\n",
       "   'bands': [{'id': 'RootMoist_inst',\n",
       "     'data_type': {'type': 'PixelType', 'precision': 'float'},\n",
       "     'dimensions': [1440, 600],\n",
       "     'crs': 'EPSG:4326',\n",
       "     'crs_transform': [0.25, 0, -180, 0, -0.25, 90]}],\n",
       "   'version': 1582859662589500.0,\n",
       "   'id': 'NASA/GLDAS/V021/NOAH/G025/T3H/A20200115_0300',\n",
       "   'properties': {'system:time_start': 1579057200000,\n",
       "    'system:footprint': {'type': 'LinearRing',\n",
       "     'coordinates': [[-180, -90],\n",
       "      [180, -90],\n",
       "      [180, 90],\n",
       "      [-180, 90],\n",
       "      [-180, -90]]},\n",
       "    'start_hour': 3,\n",
       "    'system:time_end': 1579068000000,\n",
       "    'end_hour': 6,\n",
       "    'system:asset_size': 24552205,\n",
       "    'system:index': 'A20200115_0300'}},\n",
       "  {'type': 'Image',\n",
       "   'bands': [{'id': 'RootMoist_inst',\n",
       "     'data_type': {'type': 'PixelType', 'precision': 'float'},\n",
       "     'dimensions': [1440, 600],\n",
       "     'crs': 'EPSG:4326',\n",
       "     'crs_transform': [0.25, 0, -180, 0, -0.25, 90]}],\n",
       "   'version': 1582861115333464,\n",
       "   'id': 'NASA/GLDAS/V021/NOAH/G025/T3H/A20200115_0600',\n",
       "   'properties': {'system:time_start': 1579068000000,\n",
       "    'system:footprint': {'type': 'LinearRing',\n",
       "     'coordinates': [[-180, -90],\n",
       "      [180, -90],\n",
       "      [180, 90],\n",
       "      [-180, 90],\n",
       "      [-180, -90]]},\n",
       "    'start_hour': 6,\n",
       "    'system:time_end': 1579078800000,\n",
       "    'end_hour': 9,\n",
       "    'system:asset_size': 25120084,\n",
       "    'system:index': 'A20200115_0600'}},\n",
       "  {'type': 'Image',\n",
       "   'bands': [{'id': 'RootMoist_inst',\n",
       "     'data_type': {'type': 'PixelType', 'precision': 'float'},\n",
       "     'dimensions': [1440, 600],\n",
       "     'crs': 'EPSG:4326',\n",
       "     'crs_transform': [0.25, 0, -180, 0, -0.25, 90]}],\n",
       "   'version': 1582863038498764,\n",
       "   'id': 'NASA/GLDAS/V021/NOAH/G025/T3H/A20200115_0900',\n",
       "   'properties': {'system:time_start': 1579078800000,\n",
       "    'system:footprint': {'type': 'LinearRing',\n",
       "     'coordinates': [[-180, -90],\n",
       "      [180, -90],\n",
       "      [180, 90],\n",
       "      [-180, 90],\n",
       "      [-180, -90]]},\n",
       "    'start_hour': 9,\n",
       "    'system:time_end': 1579089600000,\n",
       "    'end_hour': 12,\n",
       "    'system:asset_size': 25590639,\n",
       "    'system:index': 'A20200115_0900'}},\n",
       "  {'type': 'Image',\n",
       "   'bands': [{'id': 'RootMoist_inst',\n",
       "     'data_type': {'type': 'PixelType', 'precision': 'float'},\n",
       "     'dimensions': [1440, 600],\n",
       "     'crs': 'EPSG:4326',\n",
       "     'crs_transform': [0.25, 0, -180, 0, -0.25, 90]}],\n",
       "   'version': 1582875433561788,\n",
       "   'id': 'NASA/GLDAS/V021/NOAH/G025/T3H/A20200115_1200',\n",
       "   'properties': {'system:time_start': 1579089600000,\n",
       "    'system:footprint': {'type': 'LinearRing',\n",
       "     'coordinates': [[-180, -90],\n",
       "      [180, -90],\n",
       "      [180, 90],\n",
       "      [-180, 90],\n",
       "      [-180, -90]]},\n",
       "    'start_hour': 12,\n",
       "    'system:time_end': 1579100400000,\n",
       "    'end_hour': 15,\n",
       "    'system:asset_size': 25684767,\n",
       "    'system:index': 'A20200115_1200'}},\n",
       "  {'type': 'Image',\n",
       "   'bands': [{'id': 'RootMoist_inst',\n",
       "     'data_type': {'type': 'PixelType', 'precision': 'float'},\n",
       "     'dimensions': [1440, 600],\n",
       "     'crs': 'EPSG:4326',\n",
       "     'crs_transform': [0.25, 0, -180, 0, -0.25, 90]}],\n",
       "   'version': 1582858889383019,\n",
       "   'id': 'NASA/GLDAS/V021/NOAH/G025/T3H/A20200115_1500',\n",
       "   'properties': {'system:time_start': 1579100400000,\n",
       "    'system:footprint': {'type': 'LinearRing',\n",
       "     'coordinates': [[-180, -90],\n",
       "      [180, -90],\n",
       "      [180, 90],\n",
       "      [-180, 90],\n",
       "      [-180, -90]]},\n",
       "    'start_hour': 15,\n",
       "    'system:time_end': 1579111200000,\n",
       "    'end_hour': 18,\n",
       "    'system:asset_size': 25410513,\n",
       "    'system:index': 'A20200115_1500'}},\n",
       "  {'type': 'Image',\n",
       "   'bands': [{'id': 'RootMoist_inst',\n",
       "     'data_type': {'type': 'PixelType', 'precision': 'float'},\n",
       "     'dimensions': [1440, 600],\n",
       "     'crs': 'EPSG:4326',\n",
       "     'crs_transform': [0.25, 0, -180, 0, -0.25, 90]}],\n",
       "   'version': 1582861087978555,\n",
       "   'id': 'NASA/GLDAS/V021/NOAH/G025/T3H/A20200115_1800',\n",
       "   'properties': {'system:time_start': 1579111200000,\n",
       "    'system:footprint': {'type': 'LinearRing',\n",
       "     'coordinates': [[-180, -90],\n",
       "      [180, -90],\n",
       "      [180, 90],\n",
       "      [-180, 90],\n",
       "      [-180, -90]]},\n",
       "    'start_hour': 18,\n",
       "    'system:time_end': 1579122000000,\n",
       "    'end_hour': 21,\n",
       "    'system:asset_size': 25170717,\n",
       "    'system:index': 'A20200115_1800'}},\n",
       "  {'type': 'Image',\n",
       "   'bands': [{'id': 'RootMoist_inst',\n",
       "     'data_type': {'type': 'PixelType', 'precision': 'float'},\n",
       "     'dimensions': [1440, 600],\n",
       "     'crs': 'EPSG:4326',\n",
       "     'crs_transform': [0.25, 0, -180, 0, -0.25, 90]}],\n",
       "   'version': 1582862470506876,\n",
       "   'id': 'NASA/GLDAS/V021/NOAH/G025/T3H/A20200115_2100',\n",
       "   'properties': {'system:time_start': 1579122000000,\n",
       "    'system:footprint': {'type': 'LinearRing',\n",
       "     'coordinates': [[-180, -90],\n",
       "      [180, -90],\n",
       "      [180, 90],\n",
       "      [-180, 90],\n",
       "      [-180, -90]]},\n",
       "    'start_hour': 21,\n",
       "    'system:time_end': 1579132800000,\n",
       "    'end_hour': 0,\n",
       "    'system:asset_size': 24735512,\n",
       "    'system:index': 'A20200115_2100'}}]}"
      ]
     },
     "execution_count": 11,
     "metadata": {},
     "output_type": "execute_result"
    }
   ],
   "source": [
    "RootMoist_inst.getInfo()"
   ]
  },
  {
   "cell_type": "code",
   "execution_count": 12,
   "metadata": {},
   "outputs": [],
   "source": [
    "# def date(feature):\n",
    "#     date = feature.get('system:index')\n",
    "#     return feature.set({'Date': date})\n",
    "# RootMoist_inst = RootMoist_inst.map(date)\n",
    "# # RootMoist_inst.getInfo()\n"
   ]
  },
  {
   "cell_type": "code",
   "execution_count": 13,
   "metadata": {},
   "outputs": [],
   "source": [
    "# def func(collection):   \n",
    "#     def reduce(image):\n",
    "#         reduced = image.reduceRegions(collection=aoi, reducer=ee.Reducer.mean(), scale=25000)\n",
    "#         image = image.set('value', reduced)\n",
    "#         return reduced\n",
    "#     red_feature = collection.map(reduce)\n",
    "#     return red_feature.flatten()"
   ]
  },
  {
   "cell_type": "code",
   "execution_count": 14,
   "metadata": {
    "scrolled": true
   },
   "outputs": [],
   "source": [
    "# results = func(RootMoist_inst)\n",
    "# results.getInfo()"
   ]
  },
  {
   "cell_type": "markdown",
   "metadata": {},
   "source": [
    "https://stackoverflow.com/questions/55484656/iterating-over-a-gee-featurecollection\n"
   ]
  },
  {
   "cell_type": "code",
   "execution_count": 15,
   "metadata": {},
   "outputs": [],
   "source": [
    "def reduce(image):\n",
    "    reduced = image.reduceRegions(collection=aoi, reducer=ee.Reducer.mean(), scale=25000)\n",
    "    image = image.set('value', reduced)\n",
    "    return reduced"
   ]
  },
  {
   "cell_type": "code",
   "execution_count": 16,
   "metadata": {},
   "outputs": [],
   "source": [
    "results_1 = RootMoist_inst.map(reduce)\n",
    "results = results_1.flatten()"
   ]
  },
  {
   "cell_type": "code",
   "execution_count": 17,
   "metadata": {},
   "outputs": [
    {
     "data": {
      "text/plain": [
       "{'type': 'FeatureCollection',\n",
       " 'columns': {},\n",
       " 'features': [{'type': 'Feature',\n",
       "   'geometry': {'type': 'Point',\n",
       "    'coordinates': [-62.119581801721324, -10.215769049745338]},\n",
       "   'id': 'A20200115_0000_0',\n",
       "   'properties': {'mean': 491.3389892578125}},\n",
       "  {'type': 'Feature',\n",
       "   'geometry': {'type': 'Point',\n",
       "    'coordinates': [-62.119581801721324, -10.215769049745338]},\n",
       "   'id': 'A20200115_0300_0',\n",
       "   'properties': {'mean': 490.59600830078125}},\n",
       "  {'type': 'Feature',\n",
       "   'geometry': {'type': 'Point',\n",
       "    'coordinates': [-62.119581801721324, -10.215769049745338]},\n",
       "   'id': 'A20200115_0600_0',\n",
       "   'properties': {'mean': 490.1700134277344}},\n",
       "  {'type': 'Feature',\n",
       "   'geometry': {'type': 'Point',\n",
       "    'coordinates': [-62.119581801721324, -10.215769049745338]},\n",
       "   'id': 'A20200115_0900_0',\n",
       "   'properties': {'mean': 489.51800537109375}},\n",
       "  {'type': 'Feature',\n",
       "   'geometry': {'type': 'Point',\n",
       "    'coordinates': [-62.119581801721324, -10.215769049745338]},\n",
       "   'id': 'A20200115_1200_0',\n",
       "   'properties': {'mean': 488.85699462890625}},\n",
       "  {'type': 'Feature',\n",
       "   'geometry': {'type': 'Point',\n",
       "    'coordinates': [-62.119581801721324, -10.215769049745338]},\n",
       "   'id': 'A20200115_1500_0',\n",
       "   'properties': {'mean': 489.8550109863281}},\n",
       "  {'type': 'Feature',\n",
       "   'geometry': {'type': 'Point',\n",
       "    'coordinates': [-62.119581801721324, -10.215769049745338]},\n",
       "   'id': 'A20200115_1800_0',\n",
       "   'properties': {'mean': 489.3219909667969}},\n",
       "  {'type': 'Feature',\n",
       "   'geometry': {'type': 'Point',\n",
       "    'coordinates': [-62.119581801721324, -10.215769049745338]},\n",
       "   'id': 'A20200115_2100_0',\n",
       "   'properties': {'mean': 487.9179992675781}}]}"
      ]
     },
     "execution_count": 17,
     "metadata": {},
     "output_type": "execute_result"
    }
   ],
   "source": [
    "hh = ee.FeatureCollection(results)\n",
    "hh.getInfo()"
   ]
  },
  {
   "cell_type": "code",
   "execution_count": 18,
   "metadata": {},
   "outputs": [],
   "source": [
    "# def dated(image, feature):\n",
    "#     date = ee.Image.date(image)\n",
    "#     return feature.set({'date': date})"
   ]
  },
  {
   "cell_type": "code",
   "execution_count": 19,
   "metadata": {},
   "outputs": [],
   "source": [
    "# def dated_colls(imagecoll, featurecoll):\n",
    "#     for image in imagecoll:\n",
    "#         for feature in featurecoll:\n",
    "#             def dated(image, feature):\n",
    "#                 date = ee.Image.date(image)\n",
    "#                 return feature.set({'date': date})"
   ]
  },
  {
   "cell_type": "code",
   "execution_count": 20,
   "metadata": {},
   "outputs": [],
   "source": [
    "def dated(image, featurecoll):\n",
    "    date = ee.Image.date(image)\n",
    "    featurecoll = ee.FeatureCollection(featurecoll)\n",
    "    def datefeat(feature):\n",
    "        return feature.set({'date': date})\n",
    "    return featurecoll.map(datefeat)"
   ]
  },
  {
   "cell_type": "code",
   "execution_count": 21,
   "metadata": {},
   "outputs": [],
   "source": [
    "results = ee.FeatureCollection(ee.FeatureCollection(RootMoist_inst.iterate(dated, hh)))\n",
    "# results = results.flatten()"
   ]
  },
  {
   "cell_type": "code",
   "execution_count": 22,
   "metadata": {},
   "outputs": [],
   "source": [
    "# RootMoist_inst.getInfo()"
   ]
  },
  {
   "cell_type": "code",
   "execution_count": 23,
   "metadata": {},
   "outputs": [],
   "source": [
    "# dated_results = ee.FeatureCollection(ee.List(RootMoist_inst.iterate(date, hh)))"
   ]
  },
  {
   "cell_type": "markdown",
   "metadata": {},
   "source": [
    "#### Exporting CSV Table"
   ]
  },
  {
   "cell_type": "code",
   "execution_count": 24,
   "metadata": {},
   "outputs": [
    {
     "name": "stdout",
     "output_type": "stream",
     "text": [
      "Filename? anything3\n"
     ]
    }
   ],
   "source": [
    "foldername = \"FNS\"\n",
    "ExprtDescrptn = input(\"Filename? \")\n",
    "\n",
    "export_task = ee.batch.Export.table.toDrive(collection=results, folder=foldername, description=ExprtDescrptn, fileFormat='CSV')\n",
    "export_task_config = {\n",
    "    'scale': 27750, 'driveFolder': 'FNS'\n",
    "}\n",
    "export_task.start()\n",
    "\n",
    "# ee.batch.data.startProcessing(export_task, export_task_config)"
   ]
  },
  {
   "cell_type": "code",
   "execution_count": 25,
   "metadata": {},
   "outputs": [],
   "source": [
    "# foldername = \"FNS\"\n",
    "# ExprtDescrptn = input(\"Filename? \")\n",
    "\n",
    "# export_task = ee.batch.Export.table.toDrive(collection=results, folder=foldername, description=ExprtDescrptn, fileFormat='CSV')\n",
    "# export_task_config = {\n",
    "#     'scale': 27750, 'driveFolder': 'FNS'\n",
    "# }\n",
    "# export_task.start()\n",
    "\n",
    "# # ee.batch.data.startProcessing(export_task, export_task_config)"
   ]
  },
  {
   "cell_type": "markdown",
   "metadata": {},
   "source": [
    "Below: Practice / Tests\n",
    "<br> code burial site"
   ]
  }
 ],
 "metadata": {
  "kernelspec": {
   "display_name": "Python 3",
   "language": "python",
   "name": "python3"
  },
  "language_info": {
   "codemirror_mode": {
    "name": "ipython",
    "version": 3
   },
   "file_extension": ".py",
   "mimetype": "text/x-python",
   "name": "python",
   "nbconvert_exporter": "python",
   "pygments_lexer": "ipython3",
   "version": "3.7.6"
  }
 },
 "nbformat": 4,
 "nbformat_minor": 4
}
